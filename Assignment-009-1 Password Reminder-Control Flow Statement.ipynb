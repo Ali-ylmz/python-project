{
 "cells": [
  {
   "cell_type": "code",
   "execution_count": 4,
   "id": "4d2e525d",
   "metadata": {},
   "outputs": [
    {
     "name": "stdout",
     "output_type": "stream",
     "text": [
      "Enter your name : Ali\n",
      "Hello, Ali! The password is : W@12\n"
     ]
    }
   ],
   "source": [
    "user_name = \"Ali\"\n",
    "\n",
    "name = input(\"Enter your name : \")\n",
    "name = name.title()\n",
    "    \n",
    "if (name == user_name):\n",
    "    print(\"Hello, {}! The password is : W@12\".format(name))\n",
    "else:\n",
    "    print(\"Hello, {}! See you later.\".format(name))"
   ]
  }
 ],
 "metadata": {
  "kernelspec": {
   "display_name": "Python 3",
   "language": "python",
   "name": "python3"
  },
  "language_info": {
   "codemirror_mode": {
    "name": "ipython",
    "version": 3
   },
   "file_extension": ".py",
   "mimetype": "text/x-python",
   "name": "python",
   "nbconvert_exporter": "python",
   "pygments_lexer": "ipython3",
   "version": "3.8.8"
  }
 },
 "nbformat": 4,
 "nbformat_minor": 5
}
